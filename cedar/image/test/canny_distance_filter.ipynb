{
 "cells": [
  {
   "cell_type": "code",
   "execution_count": 1,
   "metadata": {},
   "outputs": [
    {
     "name": "stdout",
     "output_type": "stream",
     "text": [
      "loaded packages: ['os', 'osp', 'shutil', 'base64', 'json', 'cv2', 'random', 'warnings', 'np', 'pd', 'plt', 'sns', 'alt', 'tqdm', 'Image', 'ImageDraw', 'BytesIO', 'defaultdict', 'color_list', 'draw', 'draw_lines', 'put_text', 'putText', 'imshow', 'dict2obj', 'config', 'Config', 'Dict2Obj', 'tools', 'logger', 'init_logger', 'rmtree_makedirs', 'split_filename', 'timeit', 'create_name', 'run_subprocess', 'get_file_md5', 'find_duplicate_filenames', 'move_file', 'imread_imwrite', 'imread', 'imwrite', 'iou', 'calculate_iou', 'merge_boxes', 'roate_image', 'io', 'array_to_base64', 'path_to_url', 'url_to_path', 'find_image_path', 'check_xml', 'create_xml', 'write_xml', 'read_xml', 'xml_to_dict', 'read_xml_as_dict']\n"
     ]
    }
   ],
   "source": [
    "from cedar.init import *\n",
    "import matplotlib.pyplot as plt"
   ]
  },
  {
   "cell_type": "code",
   "execution_count": 55,
   "metadata": {},
   "outputs": [],
   "source": [
    "def _create_kernel(step, is_row):\n",
    "    \"\"\"创建用于过滤的卷积核\"\"\"\n",
    "    kernel = np.ones((1, step * 2 + 1), np.uint8)\n",
    "    kernel[:, 0:step] = 1\n",
    "    kernel[:, step:] = 0\n",
    "    kernel[0, step] = 100\n",
    "    if not is_row:\n",
    "        kernel = kernel.T\n",
    "    return kernel\n",
    "\n",
    "\n",
    "def filter_by_distance(edges, step, is_row=True):\n",
    "    \"\"\"提取canny边缘之后转化为（0｜1）,\n",
    "        然后过滤两两像素 垂直or水平距离小于step的 像素。\n",
    "    Args:\n",
    "        edges(np.array:np.uint8): （0｜1）\n",
    "        step(int): 距离\n",
    "        is_row(bool): False or True\n",
    "    \"\"\"\n",
    "    edges = cv2.copyMakeBorder(edges, 1, 1, 1, 1, cv2.BORDER_CONSTANT, value=1)\n",
    "\n",
    "    kernel = _create_kernel(step, is_row)\n",
    "\n",
    "    result_1 = cv2.filter2D(edges, -1, kernel)\n",
    "    result_1[result_1 == 100] = 255\n",
    "    result_1[result_1 < 255] = 0\n",
    "\n",
    "    # 反转kernel，然后进行卷积\n",
    "    result_2 = cv2.filter2D(edges, -1, np.flip(kernel))\n",
    "    result_2[result_2 == 100] = 255\n",
    "    result_2[result_2 < 255] = 0\n",
    "\n",
    "    # 两个卷积的结果相加，得到最终的结果\n",
    "    edges_result = result_1 + result_2\n",
    "    edges_result = np.array(edges_result, dtype=bool).astype(np.uint8)\n",
    "    return edges_result[1:-1, 1:-1], kernel"
   ]
  },
  {
   "cell_type": "code",
   "execution_count": 56,
   "metadata": {},
   "outputs": [],
   "source": [
    "import numpy as np\n",
    "import cv2\n",
    "\n",
    "edges = np.random.randint(0, 2, (10, 10), dtype=np.uint8)  # 假设的边缘图像\n",
    "\n",
    "edges_row, kernel = filter_by_distance(edges, step=3, is_row=True)\n",
    "edges_row_show = edges.copy()\n",
    "edges_row_show[edges_row == 1] = 2"
   ]
  },
  {
   "cell_type": "code",
   "execution_count": 61,
   "metadata": {},
   "outputs": [
    {
     "data": {
      "image/png": "[encoded data removed]",
      "text/plain": [
       "<Figure size 640x480 with 1 Axes>"
      ]
     },
     "metadata": {},
     "output_type": "display_data"
    },
    {
     "data": {
      "image/png": "[encoded data removed]",
      "text/plain": [
       "<Figure size 640x480 with 1 Axes>"
      ]
     },
     "metadata": {},
     "output_type": "display_data"
    },
    {
     "data": {
      "image/png": "[encoded data removed]",
      "text/plain": [
       "<Figure size 640x480 with 1 Axes>"
      ]
     },
     "metadata": {},
     "output_type": "display_data"
    }
   ],
   "source": [
    "plt.imshow(edges)\n",
    "plt.show()\n",
    "\n",
    "plt.imshow(kernel)\n",
    "plt.show()\n",
    "\n",
    "plt.imshow(edges_row_show)\n",
    "plt.show()"
   ]
  },
  {
   "cell_type": "code",
   "execution_count": null,
   "metadata": {},
   "outputs": [],
   "source": []
  },
  {
   "cell_type": "code",
   "execution_count": null,
   "metadata": {},
   "outputs": [],
   "source": []
  },
  {
   "cell_type": "code",
   "execution_count": null,
   "metadata": {},
   "outputs": [],
   "source": []
  },
  {
   "cell_type": "code",
   "execution_count": null,
   "metadata": {},
   "outputs": [],
   "source": []
  }
 ],
 "metadata": {
  "kernelspec": {
   "display_name": "py310",
   "language": "python",
   "name": "python3"
  },
  "language_info": {
   "codemirror_mode": {
    "name": "ipython",
    "version": 3
   },
   "file_extension": ".py",
   "mimetype": "text/x-python",
   "name": "python",
   "nbconvert_exporter": "python",
   "pygments_lexer": "ipython3",
   "version": "3.10.14"
  }
 },
 "nbformat": 4,
 "nbformat_minor": 2
}
