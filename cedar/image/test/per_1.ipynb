{
 "cells": [
  {
   "cell_type": "code",
   "execution_count": 7,
   "metadata": {},
   "outputs": [
    {
     "name": "stdout",
     "output_type": "stream",
     "text": [
      "调整后的线段端点坐标为: (5.784464540552737, 8.922322702763681)\n"
     ]
    }
   ],
   "source": [
    "import math\n",
    "\n",
    "\n",
    "# 计算两点之间的距离\n",
    "def distance_between_points(point1, point2):\n",
    "    x1, y1 = point1\n",
    "    x2, y2 = point2\n",
    "    return math.sqrt((x2 - x1) ** 2 + (y2 - y1) ** 2)\n",
    "\n",
    "\n",
    "# 调整线段长度到目标长度\n",
    "def adjust_line_length(point1, point2, target_length):\n",
    "    current_length = distance_between_points(point1, point2)\n",
    "    # 缩短线段长度\n",
    "    ratio = target_length / current_length\n",
    "    new_x = point1[0] + (point2[0] - point1[0]) * ratio\n",
    "    new_y = point1[1] + (point2[1] - point1[1]) * ratio\n",
    "    return (new_x, new_y)\n",
    "\n",
    "\n",
    "# 示例数据\n",
    "point1 = (5, 5)\n",
    "point2 = (6, 10)\n",
    "target_length = 4\n",
    "\n",
    "# 调整线段长度\n",
    "new_point = adjust_line_length(point1, point2, target_length)\n",
    "print(\"调整后的线段端点坐标为:\", new_point)"
   ]
  },
  {
   "cell_type": "code",
   "execution_count": null,
   "metadata": {},
   "outputs": [],
   "source": []
  }
 ],
 "metadata": {
  "kernelspec": {
   "display_name": "py310",
   "language": "python",
   "name": "python3"
  },
  "language_info": {
   "codemirror_mode": {
    "name": "ipython",
    "version": 3
   },
   "file_extension": ".py",
   "mimetype": "text/x-python",
   "name": "python",
   "nbconvert_exporter": "python",
   "pygments_lexer": "ipython3",
   "version": "3.10.14"
  }
 },
 "nbformat": 4,
 "nbformat_minor": 2
}
