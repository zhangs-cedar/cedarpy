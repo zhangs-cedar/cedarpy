{
 "cells": [
  {
   "cell_type": "markdown",
   "metadata": {},
   "source": [
    "##  Config"
   ]
  },
  {
   "cell_type": "code",
   "execution_count": null,
   "metadata": {},
   "outputs": [],
   "source": [
    "from cedar.utils import Config\n",
    "cfg = Config(\"config.json\").obj\n",
    "cfg.input_dir = \"xiugai\"\n",
    "print(cfg.input_dir)"
   ]
  },
  {
   "cell_type": "markdown",
   "metadata": {},
   "source": [
    "# logger\n",
    "\n",
    "在入口页面初始化一次 init_logger，后续页面可以直接导入logger使用"
   ]
  },
  {
   "cell_type": "code",
   "execution_count": 1,
   "metadata": {},
   "outputs": [
    {
     "name": "stdout",
     "output_type": "stream",
     "text": [
      "[2024/04/12 16:09:50] cedar.utils.logger WARNING: Initialize logger\n"
     ]
    },
    {
     "name": "stderr",
     "output_type": "stream",
     "text": [
      "WARNING:cedar.utils.logger:Initialize logger\n"
     ]
    },
    {
     "name": "stdout",
     "output_type": "stream",
     "text": [
      "[2024/04/12 16:09:50] cedar.utils.logger INFO: 151231\n"
     ]
    },
    {
     "name": "stderr",
     "output_type": "stream",
     "text": [
      "INFO:cedar.utils.logger:151231\n"
     ]
    },
    {
     "name": "stdout",
     "output_type": "stream",
     "text": [
      "[2024/04/12 16:09:50] cedar.utils.logger INFO: 1512214\n"
     ]
    },
    {
     "name": "stderr",
     "output_type": "stream",
     "text": [
      "INFO:cedar.utils.logger:1512214\n"
     ]
    }
   ],
   "source": [
    "# 页面1\n",
    "import logging\n",
    "logging.info(\"1214\")\n",
    "\n",
    "\n",
    "from cedar import logger\n",
    "from cedar.utils import init_logger\n",
    "\n",
    "init_logger()\n",
    "logger.info(\"151231\")\n",
    "\n",
    "# 页面2\n",
    "from cedar import logger\n",
    "logger.info(\"1512214\")"
   ]
  },
  {
   "cell_type": "code",
   "execution_count": null,
   "metadata": {},
   "outputs": [],
   "source": [
    "from cedar.utils import create_name\n",
    "create_name()"
   ]
  },
  {
   "cell_type": "code",
   "execution_count": null,
   "metadata": {},
   "outputs": [],
   "source": []
  },
  {
   "cell_type": "code",
   "execution_count": null,
   "metadata": {},
   "outputs": [],
   "source": []
  }
 ],
 "metadata": {
  "kernelspec": {
   "display_name": "py310",
   "language": "python",
   "name": "python3"
  },
  "language_info": {
   "codemirror_mode": {
    "name": "ipython",
    "version": 3
   },
   "file_extension": ".py",
   "mimetype": "text/x-python",
   "name": "python",
   "nbconvert_exporter": "python",
   "pygments_lexer": "ipython3",
   "version": "3.10.14"
  }
 },
 "nbformat": 4,
 "nbformat_minor": 2
}
