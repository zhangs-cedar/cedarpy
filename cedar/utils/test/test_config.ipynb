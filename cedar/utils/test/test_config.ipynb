{
 "cells": [
  {
   "cell_type": "code",
   "execution_count": 1,
   "metadata": {},
   "outputs": [
    {
     "name": "stdout",
     "output_type": "stream",
     "text": [
      "配置文件加载解析成功！\n",
      "path: config.json \n",
      " {'input_dir': '', 'include_dirs': ['A3', 'A4', 'A5', 'A6', 'A7', 'A8', 'A9', 'A10', 'A11', 'A12', 'A13'], 'output_dir': '/workspace/data/project/ygdy_process/output_少锡_v1', 'Rois_NS168_01CD_X249A4_arr': False, 'Rois_NS168_01CD_X249A4': {'U15': [1589, 5325, 2015, 5485, 270], 'U13': [1575, 6539, 2001, 6699, 270], 'U14': [3481, 5021, 3907, 5181, 90], 'U16': [3454, 6304, 3880, 6464, 90], 'U11': [4991, 5301, 5417, 5461, 270], 'U9': [5003, 6558, 5429, 6718, 270], 'U10': [6903, 5099, 7329, 5259, 90], 'U12': [6886, 6322, 7312, 6482, 90], 'U7': [8305, 5327, 8731, 5487, 270], 'U5': [8307, 6560, 8733, 6720, 270], 'U6': [10195, 5060, 10621, 5220, 90], 'U8': [10223, 6290, 10649, 6450, 90], 'U20': [3380, 8397, 3540, 8823, 180], 'U21': [7180, 8407, 7340, 8833, 180]}, 'Roi_220_arr': True, 'Roi_220': {'R806': [2585, 2810, 2695, 2870, 180], 'R804': [2730, 3307, 2790, 3417, 90], 'R599': [5480, 3333, 5540, 3443, 90], 'R597': [5532, 3333, 5592, 3443, 90], 'R595': [5480, 3333, 5540, 3443, 90], 'R594': [5635, 3333, 5695, 3443, 90], 'R772': [5149, 3558, 5209, 3668, 90], 'R598': [5515, 3850, 5575, 3960, 270], 'R596': [5565, 3850, 5625, 3960, 90], 'R559': [8535, 3025, 8595, 3135, 270], 'R563': [8588, 3025, 8648, 3135, 270], 'R766': [8375, 2663, 8435, 2773, 270], 'R765': [6860, 4182, 6920, 4292, 270], 'R755': [11545, 5842, 11655, 5902, 0]}}\n"
     ]
    }
   ],
   "source": [
    "from cedar.utils import Config\n",
    "cfg = Config(\"config.json\").obj"
   ]
  },
  {
   "cell_type": "code",
   "execution_count": null,
   "metadata": {},
   "outputs": [],
   "source": []
  },
  {
   "cell_type": "code",
   "execution_count": null,
   "metadata": {},
   "outputs": [],
   "source": []
  },
  {
   "cell_type": "code",
   "execution_count": null,
   "metadata": {},
   "outputs": [],
   "source": []
  },
  {
   "cell_type": "code",
   "execution_count": null,
   "metadata": {},
   "outputs": [],
   "source": []
  }
 ],
 "metadata": {
  "kernelspec": {
   "display_name": "py310",
   "language": "python",
   "name": "python3"
  },
  "language_info": {
   "codemirror_mode": {
    "name": "ipython",
    "version": 3
   },
   "file_extension": ".py",
   "mimetype": "text/x-python",
   "name": "python",
   "nbconvert_exporter": "python",
   "pygments_lexer": "ipython3",
   "version": "3.10.14"
  }
 },
 "nbformat": 4,
 "nbformat_minor": 2
}
