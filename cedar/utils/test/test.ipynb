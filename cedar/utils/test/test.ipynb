{
 "cells": [
  {
   "cell_type": "markdown",
   "metadata": {},
   "source": [
    "##  Config"
   ]
  },
  {
   "cell_type": "code",
   "execution_count": null,
   "metadata": {},
   "outputs": [],
   "source": [
    "from cedar.utils import Config\n",
    "\n",
    "cfg = Config(\"config.json\").obj\n",
    "cfg.input_dir = \"xiugai\"\n",
    "print(cfg.input_dir)"
   ]
  },
  {
   "cell_type": "markdown",
   "metadata": {},
   "source": [
    "# logger\n",
    "\n",
    "在入口页面初始化一次 init_logger，后续页面可以直接导入logger使用"
   ]
  },
  {
   "cell_type": "code",
   "execution_count": 1,
   "metadata": {},
   "outputs": [
    {
     "name": "stdout",
     "output_type": "stream",
     "text": [
      "[2024/07/16 10:00:07] 111 WARNING: Initialize logger\n"
     ]
    },
    {
     "name": "stderr",
     "output_type": "stream",
     "text": [
      "WARNING:111:Initialize logger\n"
     ]
    },
    {
     "name": "stdout",
     "output_type": "stream",
     "text": [
      "[2024/07/16 10:00:07] 111 INFO: 151231\n"
     ]
    },
    {
     "name": "stderr",
     "output_type": "stream",
     "text": [
      "INFO:111:151231\n"
     ]
    },
    {
     "name": "stdout",
     "output_type": "stream",
     "text": [
      "[2024/07/16 10:00:07] 111 INFO: 1512214\n"
     ]
    },
    {
     "name": "stderr",
     "output_type": "stream",
     "text": [
      "INFO:111:1512214\n"
     ]
    }
   ],
   "source": [
    "# 页面1\n",
    "import logging\n",
    "\n",
    "logging.info(\"1214\")\n",
    "\n",
    "\n",
    "from cedar import logger\n",
    "from cedar.utils import init_logger\n",
    "\n",
    "init_logger(\"111\")\n",
    "\n",
    "logger.info(\"151231\")\n",
    "logger.info(\"1512214\")"
   ]
  },
  {
   "cell_type": "code",
   "execution_count": null,
   "metadata": {},
   "outputs": [],
   "source": [
    "from cedar.utils import create_name\n",
    "\n",
    "create_name()"
   ]
  },
  {
   "cell_type": "code",
   "execution_count": null,
   "metadata": {},
   "outputs": [],
   "source": []
  },
  {
   "cell_type": "code",
   "execution_count": null,
   "metadata": {},
   "outputs": [],
   "source": []
  }
 ],
 "metadata": {
  "kernelspec": {
   "display_name": "py310",
   "language": "python",
   "name": "python3"
  },
  "language_info": {
   "codemirror_mode": {
    "name": "ipython",
    "version": 3
   },
   "file_extension": ".py",
   "mimetype": "text/x-python",
   "name": "python",
   "nbconvert_exporter": "python",
   "pygments_lexer": "ipython3",
   "version": "3.10.14"
  }
 },
 "nbformat": 4,
 "nbformat_minor": 2
}
